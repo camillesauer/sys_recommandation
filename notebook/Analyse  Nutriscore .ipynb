{
 "cells": [
  {
   "cell_type": "markdown",
   "metadata": {},
   "source": [
    "# Importation du fichier CSV et des packages + Mise en lien avec Pycharm"
   ]
  },
  {
   "cell_type": "code",
   "execution_count": 1,
   "metadata": {},
   "outputs": [],
   "source": [
    "#!pip3 install seaborn"
   ]
  },
  {
   "cell_type": "code",
   "execution_count": 1,
   "metadata": {},
   "outputs": [
    {
     "name": "stdout",
     "output_type": "stream",
     "text": [
      "Setup Complete\n"
     ]
    }
   ],
   "source": [
    "import pandas as pd\n",
    "import matplotlib.pyplot as plt\n",
    "%matplotlib inline\n",
    "import seaborn as sns\n",
    "print(\"Setup Complete\")"
   ]
  },
  {
   "cell_type": "code",
   "execution_count": 13,
   "metadata": {},
   "outputs": [],
   "source": [
    "df = pd.read_csv(\"C:\\\\Users\\\\Apprenant\\\\PycharmProjects\\\\sys_recommandation\\\\data\\\\recommandation.tsv\", sep='\\t', low_memory=False)"
   ]
  },
  {
   "cell_type": "markdown",
   "metadata": {},
   "source": [
    "# ANALYSE DE MA DONNÉE"
   ]
  },
  {
   "cell_type": "code",
   "execution_count": 14,
   "metadata": {},
   "outputs": [
    {
     "name": "stdout",
     "output_type": "stream",
     "text": [
      "Dataset :  {'code': 40, 'url': 652, 'creator': 68, 'created_t': 37, 'created_datetime': 46, 'last_modified_t': 31, 'last_modified_datetime': 35, 'product_name': 234, 'generic_name': 870, 'quantity': 194, 'packaging': 248, 'packaging_tags': 240, 'brands': 201, 'brands_tags': 198, 'categories': 651, 'categories_tags': 771, 'categories_en': 651, 'origins': 4240, 'origins_tags': 462, 'manufacturing_places': 558, 'manufacturing_places_tags': 539, 'labels': 666, 'labels_tags': 679, 'labels_en': 676, 'emb_codes': 331, 'emb_codes_tags': 308, 'first_packaging_code_geo': 19, 'cities': 3, 'cities_tags': 247, 'purchase_places': 89, 'stores': 341, 'countries': 328, 'countries_tags': 286, 'countries_en': 204, 'ingredients_text': 4468, 'allergens': 672, 'allergens_en': 77, 'traces': 229, 'traces_tags': 238, 'traces_en': 238, 'serving_size': 171, 'no_nutriments': 3, 'additives_n': 4, 'additives': 141411, 'additives_tags': 281, 'additives_en': 869, 'ingredients_from_palm_oil_n': 3, 'ingredients_from_palm_oil': 3, 'ingredients_from_palm_oil_tags': 58, 'ingredients_that_may_be_from_palm_oil_n': 3, 'ingredients_that_may_be_from_palm_oil': 3, 'ingredients_that_may_be_from_palm_oil_tags': 315, 'nutrition_grade_uk': 3, 'nutrition_grade_fr': 3, 'pnns_groups_1': 23, 'pnns_groups_2': 32, 'states': 390, 'states_tags': 378, 'states_en': 339, 'main_category': 191, 'main_category_en': 191, 'image_url': 87, 'image_small_url': 87, 'energy_100g': 18, 'energy-from-fat_100g': 6, 'fat_100g': 20, 'saturated-fat_100g': 20, '-butyric-acid_100g': 3, '-caproic-acid_100g': 3, '-caprylic-acid_100g': 3, '-capric-acid_100g': 4, '-lauric-acid_100g': 7, '-myristic-acid_100g': 4, '-palmitic-acid_100g': 3, '-stearic-acid_100g': 3, '-arachidic-acid_100g': 5, '-behenic-acid_100g': 4, '-lignoceric-acid_100g': 3, '-cerotic-acid_100g': 3, '-montanic-acid_100g': 4, '-melissic-acid_100g': 3, 'monounsaturated-fat_100g': 19, 'polyunsaturated-fat_100g': 20, 'omega-3-fat_100g': 20, '-alpha-linolenic-acid_100g': 20, '-eicosapentaenoic-acid_100g': 20, '-docosahexaenoic-acid_100g': 20, 'omega-6-fat_100g': 19, '-linoleic-acid_100g': 19, '-arachidonic-acid_100g': 20, '-gamma-linolenic-acid_100g': 6, '-dihomo-gamma-linolenic-acid_100g': 18, 'omega-9-fat_100g': 4, '-oleic-acid_100g': 4, '-elaidic-acid_100g': 3, '-gondoic-acid_100g': 8, '-mead-acid_100g': 3, '-erucic-acid_100g': 3, '-nervonic-acid_100g': 3, 'trans-fat_100g': 19, 'cholesterol_100g': 22, 'carbohydrates_100g': 20, 'sugars_100g': 20, '-sucrose_100g': 4, '-glucose_100g': 4, '-fructose_100g': 5, '-lactose_100g': 5, '-maltose_100g': 4, '-maltodextrins_100g': 4, 'starch_100g': 5, 'polyols_100g': 5, 'fiber_100g': 22, 'proteins_100g': 20, 'casein_100g': 4, 'serum-proteins_100g': 3, 'nucleotides_100g': 20, 'salt_100g': 22, 'sodium_100g': 22, 'alcohol_100g': 5, 'vitamin-a_100g': 22, 'beta-carotene_100g': 22, 'vitamin-d_100g': 22, 'vitamin-e_100g': 22, 'vitamin-k_100g': 22, 'vitamin-c_100g': 22, 'vitamin-b1_100g': 22, 'vitamin-b2_100g': 22, 'vitamin-pp_100g': 22, 'vitamin-b6_100g': 22, 'vitamin-b9_100g': 22, 'folates_100g': 22, 'vitamin-b12_100g': 22, 'biotin_100g': 22, 'pantothenic-acid_100g': 22, 'silica_100g': 21, 'bicarbonate_100g': 22, 'potassium_100g': 22, 'chloride_100g': 22, 'calcium_100g': 22, 'phosphorus_100g': 22, 'iron_100g': 23, 'magnesium_100g': 22, 'zinc_100g': 22, 'copper_100g': 22, 'manganese_100g': 22, 'fluoride_100g': 22, 'selenium_100g': 22, 'chromium_100g': 22, 'molybdenum_100g': 22, 'iodine_100g': 22, 'caffeine_100g': 20, 'taurine_100g': 20, 'ph_100g': 6, 'fruits-vegetables-nuts_100g': 5, 'fruits-vegetables-nuts-estimate_100g': 5, 'collagen-meat-protein-ratio_100g': 4, 'cocoa_100g': 5, 'chlorophyl_100g': 3, 'carbon-footprint_100g': 9, 'nutrition-score-fr_100g': 5, 'nutrition-score-uk_100g': 5, 'glycemic-index_100g': 3, 'water-hardness_100g': 3}\n",
      "None\n"
     ]
    }
   ],
   "source": [
    "def info_df(df):\n",
    "    print(\"Dataset : \",\n",
    "          dict([(v, df[v].apply(lambda r: len(str(r)) if r != None else 0).max()) for v in df.columns.values]))\n",
    "\n",
    "print(info_df(df))\n"
   ]
  },
  {
   "cell_type": "code",
   "execution_count": 15,
   "metadata": {
    "scrolled": true
   },
   "outputs": [
    {
     "data": {
      "text/html": [
       "<div>\n",
       "<style scoped>\n",
       "    .dataframe tbody tr th:only-of-type {\n",
       "        vertical-align: middle;\n",
       "    }\n",
       "\n",
       "    .dataframe tbody tr th {\n",
       "        vertical-align: top;\n",
       "    }\n",
       "\n",
       "    .dataframe thead th {\n",
       "        text-align: right;\n",
       "    }\n",
       "</style>\n",
       "<table border=\"1\" class=\"dataframe\">\n",
       "  <thead>\n",
       "    <tr style=\"text-align: right;\">\n",
       "      <th></th>\n",
       "      <th>code</th>\n",
       "      <th>saturated-fat_100g</th>\n",
       "    </tr>\n",
       "  </thead>\n",
       "  <tbody>\n",
       "    <tr>\n",
       "      <th>0</th>\n",
       "      <td>0000000003087</td>\n",
       "      <td>NaN</td>\n",
       "    </tr>\n",
       "    <tr>\n",
       "      <th>1</th>\n",
       "      <td>0000000004530</td>\n",
       "      <td>28.57</td>\n",
       "    </tr>\n",
       "    <tr>\n",
       "      <th>2</th>\n",
       "      <td>0000000004559</td>\n",
       "      <td>0.00</td>\n",
       "    </tr>\n",
       "    <tr>\n",
       "      <th>3</th>\n",
       "      <td>0000000016087</td>\n",
       "      <td>5.36</td>\n",
       "    </tr>\n",
       "    <tr>\n",
       "      <th>4</th>\n",
       "      <td>0000000016094</td>\n",
       "      <td>NaN</td>\n",
       "    </tr>\n",
       "    <tr>\n",
       "      <th>...</th>\n",
       "      <td>...</td>\n",
       "      <td>...</td>\n",
       "    </tr>\n",
       "    <tr>\n",
       "      <th>356022</th>\n",
       "      <td>99567453</td>\n",
       "      <td>0.00</td>\n",
       "    </tr>\n",
       "    <tr>\n",
       "      <th>356023</th>\n",
       "      <td>9970229501521</td>\n",
       "      <td>NaN</td>\n",
       "    </tr>\n",
       "    <tr>\n",
       "      <th>356024</th>\n",
       "      <td>9977471758307</td>\n",
       "      <td>NaN</td>\n",
       "    </tr>\n",
       "    <tr>\n",
       "      <th>356025</th>\n",
       "      <td>9980282863788</td>\n",
       "      <td>NaN</td>\n",
       "    </tr>\n",
       "    <tr>\n",
       "      <th>356026</th>\n",
       "      <td>999990026839</td>\n",
       "      <td>NaN</td>\n",
       "    </tr>\n",
       "  </tbody>\n",
       "</table>\n",
       "<p>356027 rows × 2 columns</p>\n",
       "</div>"
      ],
      "text/plain": [
       "                 code  saturated-fat_100g\n",
       "0       0000000003087                 NaN\n",
       "1       0000000004530               28.57\n",
       "2       0000000004559                0.00\n",
       "3       0000000016087                5.36\n",
       "4       0000000016094                 NaN\n",
       "...               ...                 ...\n",
       "356022       99567453                0.00\n",
       "356023  9970229501521                 NaN\n",
       "356024  9977471758307                 NaN\n",
       "356025  9980282863788                 NaN\n",
       "356026   999990026839                 NaN\n",
       "\n",
       "[356027 rows x 2 columns]"
      ]
     },
     "execution_count": 15,
     "metadata": {},
     "output_type": "execute_result"
    }
   ],
   "source": [
    "df.iloc[:, [0,66]]"
   ]
  },
  {
   "cell_type": "markdown",
   "metadata": {},
   "source": [
    "#J'hésitais à inclure cette colonne dans mon dataframe. J'ai donc voulu en savoir plus. Savoir si elle était vraiment utile."
   ]
  },
  {
   "cell_type": "code",
   "execution_count": 18,
   "metadata": {},
   "outputs": [
    {
     "name": "stdout",
     "output_type": "stream",
     "text": [
      "(356027,)\n",
      "352799\n"
     ]
    }
   ],
   "source": [
    "print(df['fruits-vegetables-nuts_100g'].shape)\n",
    "print(df['fruits-vegetables-nuts_100g'].isnull().sum())"
   ]
  },
  {
   "cell_type": "markdown",
   "metadata": {},
   "source": [
    "#Je sélectionne les colonnes qui me semblent essentielles pour le nutri_score et je crée un dataframe indépendant pour passer au nettoyage et au traitement de ma data."
   ]
  },
  {
   "cell_type": "code",
   "execution_count": 19,
   "metadata": {},
   "outputs": [],
   "source": [
    "df_nutri_score = df[['product_name', 'energy_100g', 'sugars_100g', 'fiber_100g', 'proteins_100g', 'sodium_100g', 'saturated-fat_100g', 'nutrition-score-fr_100g', 'nutrition_grade_fr']]"
   ]
  },
  {
   "cell_type": "markdown",
   "metadata": {},
   "source": [
    "#Visualiser mes colonnes"
   ]
  },
  {
   "cell_type": "code",
   "execution_count": 20,
   "metadata": {
    "scrolled": true
   },
   "outputs": [
    {
     "name": "stdout",
     "output_type": "stream",
     "text": [
      "Index(['product_name', 'energy_100g', 'sugars_100g', 'fiber_100g',\n",
      "       'proteins_100g', 'sodium_100g', 'saturated-fat_100g',\n",
      "       'nutrition-score-fr_100g', 'nutrition_grade_fr'],\n",
      "      dtype='object')\n"
     ]
    }
   ],
   "source": [
    "print(df_nutri_score.columns)"
   ]
  },
  {
   "cell_type": "markdown",
   "metadata": {},
   "source": [
    "#Visualiser le type de données de mes colonnes"
   ]
  },
  {
   "cell_type": "code",
   "execution_count": 21,
   "metadata": {
    "scrolled": true
   },
   "outputs": [
    {
     "name": "stdout",
     "output_type": "stream",
     "text": [
      "product_name                object\n",
      "energy_100g                float64\n",
      "sugars_100g                float64\n",
      "fiber_100g                 float64\n",
      "proteins_100g              float64\n",
      "sodium_100g                float64\n",
      "saturated-fat_100g         float64\n",
      "nutrition-score-fr_100g    float64\n",
      "nutrition_grade_fr          object\n",
      "dtype: object\n"
     ]
    }
   ],
   "source": [
    "print(df_nutri_score.dtypes)"
   ]
  },
  {
   "cell_type": "markdown",
   "metadata": {},
   "source": [
    "#Je renomme mes colonnes"
   ]
  },
  {
   "cell_type": "code",
   "execution_count": 22,
   "metadata": {},
   "outputs": [],
   "source": [
    "df_nutri_score = df_nutri_score.rename(columns={'energy_100g': 'energy', 'sugars_100g': 'sugar', 'fiber_100g': 'fiber','proteins_100g': 'protein', 'sodium_100g': 'sodium', 'saturated-fat_100g': 'saturated_fat', 'nutrition-score-fr_100g': 'nutrition_score', 'nutrition_grade_fr': 'nutrition_echelon' })"
   ]
  },
  {
   "cell_type": "markdown",
   "metadata": {},
   "source": [
    "#Nombre de valeurs nulles dans chacune de mes colonnes"
   ]
  },
  {
   "cell_type": "code",
   "execution_count": 23,
   "metadata": {
    "scrolled": false
   },
   "outputs": [
    {
     "name": "stdout",
     "output_type": "stream",
     "text": [
      "product_name          17512\n",
      "energy                60660\n",
      "sugar                 76841\n",
      "fiber                135344\n",
      "protein               61866\n",
      "sodium                66333\n",
      "saturated_fat         92204\n",
      "nutrition_score      101171\n",
      "nutrition_echelon    101171\n",
      "dtype: int64\n"
     ]
    }
   ],
   "source": [
    "print(df_nutri_score.isnull().sum())"
   ]
  },
  {
   "cell_type": "markdown",
   "metadata": {},
   "source": [
    "#Visualiser le type de données de mes colonnes"
   ]
  },
  {
   "cell_type": "code",
   "execution_count": 24,
   "metadata": {
    "scrolled": false
   },
   "outputs": [
    {
     "name": "stdout",
     "output_type": "stream",
     "text": [
      "product_name          object\n",
      "energy               float64\n",
      "sugar                float64\n",
      "fiber                float64\n",
      "protein              float64\n",
      "sodium               float64\n",
      "saturated_fat        float64\n",
      "nutrition_score      float64\n",
      "nutrition_echelon     object\n",
      "dtype: object\n"
     ]
    }
   ],
   "source": [
    "print(df_nutri_score.dtypes)"
   ]
  },
  {
   "cell_type": "markdown",
   "metadata": {},
   "source": [
    "#Nombre de valeurs uniques dans chacune de mes colonnes"
   ]
  },
  {
   "cell_type": "code",
   "execution_count": 25,
   "metadata": {
    "scrolled": true
   },
   "outputs": [
    {
     "name": "stdout",
     "output_type": "stream",
     "text": [
      "product_name         249245\n",
      "energy                 4093\n",
      "sugar                  4194\n",
      "fiber                  1150\n",
      "protein                2633\n",
      "sodium                 5638\n",
      "saturated_fat          2307\n",
      "nutrition_score          55\n",
      "nutrition_echelon         5\n",
      "dtype: int64\n"
     ]
    }
   ],
   "source": [
    "print(df_nutri_score.nunique())"
   ]
  },
  {
   "cell_type": "code",
   "execution_count": null,
   "metadata": {},
   "outputs": [],
   "source": []
  }
 ],
 "metadata": {
  "anaconda-cloud": {},
  "kernelspec": {
   "display_name": "Python 3",
   "language": "python",
   "name": "python3"
  },
  "language_info": {
   "codemirror_mode": {
    "name": "ipython",
    "version": 3
   },
   "file_extension": ".py",
   "mimetype": "text/x-python",
   "name": "python",
   "nbconvert_exporter": "python",
   "pygments_lexer": "ipython3",
   "version": "3.8.5"
  }
 },
 "nbformat": 4,
 "nbformat_minor": 1
}
